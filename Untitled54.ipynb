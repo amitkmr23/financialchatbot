{
  "nbformat": 4,
  "nbformat_minor": 0,
  "metadata": {
    "colab": {
      "provenance": []
    },
    "kernelspec": {
      "name": "python3",
      "display_name": "Python 3"
    },
    "language_info": {
      "name": "python"
    }
  },
  "cells": [
    {
      "cell_type": "code",
      "execution_count": 6,
      "metadata": {
        "colab": {
          "base_uri": "https://localhost:8080/"
        },
        "id": "r4iNx3fLSt3_",
        "outputId": "dcad111e-e802-4df2-988f-037e2174ba55"
      },
      "outputs": [
        {
          "output_type": "stream",
          "name": "stdout",
          "text": [
            "Requirement already satisfied: serpapi in /usr/local/lib/python3.10/dist-packages (0.1.5)\n",
            "Requirement already satisfied: transformers in /usr/local/lib/python3.10/dist-packages (4.41.2)\n",
            "Requirement already satisfied: requests in /usr/local/lib/python3.10/dist-packages (from serpapi) (2.31.0)\n",
            "Requirement already satisfied: filelock in /usr/local/lib/python3.10/dist-packages (from transformers) (3.15.4)\n",
            "Requirement already satisfied: huggingface-hub<1.0,>=0.23.0 in /usr/local/lib/python3.10/dist-packages (from transformers) (0.23.4)\n",
            "Requirement already satisfied: numpy>=1.17 in /usr/local/lib/python3.10/dist-packages (from transformers) (1.25.2)\n",
            "Requirement already satisfied: packaging>=20.0 in /usr/local/lib/python3.10/dist-packages (from transformers) (24.1)\n",
            "Requirement already satisfied: pyyaml>=5.1 in /usr/local/lib/python3.10/dist-packages (from transformers) (6.0.1)\n",
            "Requirement already satisfied: regex!=2019.12.17 in /usr/local/lib/python3.10/dist-packages (from transformers) (2024.5.15)\n",
            "Requirement already satisfied: tokenizers<0.20,>=0.19 in /usr/local/lib/python3.10/dist-packages (from transformers) (0.19.1)\n",
            "Requirement already satisfied: safetensors>=0.4.1 in /usr/local/lib/python3.10/dist-packages (from transformers) (0.4.3)\n",
            "Requirement already satisfied: tqdm>=4.27 in /usr/local/lib/python3.10/dist-packages (from transformers) (4.66.4)\n",
            "Requirement already satisfied: fsspec>=2023.5.0 in /usr/local/lib/python3.10/dist-packages (from huggingface-hub<1.0,>=0.23.0->transformers) (2023.6.0)\n",
            "Requirement already satisfied: typing-extensions>=3.7.4.3 in /usr/local/lib/python3.10/dist-packages (from huggingface-hub<1.0,>=0.23.0->transformers) (4.12.2)\n",
            "Requirement already satisfied: charset-normalizer<4,>=2 in /usr/local/lib/python3.10/dist-packages (from requests->serpapi) (3.3.2)\n",
            "Requirement already satisfied: idna<4,>=2.5 in /usr/local/lib/python3.10/dist-packages (from requests->serpapi) (3.7)\n",
            "Requirement already satisfied: urllib3<3,>=1.21.1 in /usr/local/lib/python3.10/dist-packages (from requests->serpapi) (2.0.7)\n",
            "Requirement already satisfied: certifi>=2017.4.17 in /usr/local/lib/python3.10/dist-packages (from requests->serpapi) (2024.6.2)\n"
          ]
        }
      ],
      "source": [
        "!pip install serpapi transformers\n"
      ]
    },
    {
      "cell_type": "code",
      "source": [
        "!pip install google-search-results"
      ],
      "metadata": {
        "colab": {
          "base_uri": "https://localhost:8080/"
        },
        "id": "57r-x0WBTHxe",
        "outputId": "ed8ced6e-b7a8-48c3-bd3f-14951df4c30d"
      },
      "execution_count": 7,
      "outputs": [
        {
          "output_type": "stream",
          "name": "stdout",
          "text": [
            "Requirement already satisfied: google-search-results in /usr/local/lib/python3.10/dist-packages (2.4.2)\n",
            "Requirement already satisfied: requests in /usr/local/lib/python3.10/dist-packages (from google-search-results) (2.31.0)\n",
            "Requirement already satisfied: charset-normalizer<4,>=2 in /usr/local/lib/python3.10/dist-packages (from requests->google-search-results) (3.3.2)\n",
            "Requirement already satisfied: idna<4,>=2.5 in /usr/local/lib/python3.10/dist-packages (from requests->google-search-results) (3.7)\n",
            "Requirement already satisfied: urllib3<3,>=1.21.1 in /usr/local/lib/python3.10/dist-packages (from requests->google-search-results) (2.0.7)\n",
            "Requirement already satisfied: certifi>=2017.4.17 in /usr/local/lib/python3.10/dist-packages (from requests->google-search-results) (2024.6.2)\n"
          ]
        }
      ]
    },
    {
      "cell_type": "markdown",
      "source": [],
      "metadata": {
        "id": "scfai7xRWXjz"
      }
    },
    {
      "cell_type": "code",
      "source": [],
      "metadata": {
        "id": "7nFKzVihWzz8"
      },
      "execution_count": null,
      "outputs": []
    },
    {
      "cell_type": "code",
      "source": [
        "import os\n",
        "from serpapi import GoogleSearch\n",
        "from transformers import pipeline\n",
        "\n",
        "# Function to perform search and summarize\n",
        "def search_and_summarize(query, location=\"India\"):\n",
        "    # Set your SerpAPI key\n",
        "    serpapi_api_key = \"88c301566503698e2a32e960f0a5c93a250ff47efe9e6a7e096aeb424a174558\"\n",
        "\n",
        "    # Configure search parameters\n",
        "    params = {\n",
        "        \"engine\": \"google\",\n",
        "        \"q\": query,\n",
        "        \"location\": location,\n",
        "        \"hl\": \"en\",\n",
        "        \"gl\": \"us\",\n",
        "        \"google_domain\": \"google.com\",\n",
        "        \"num\": \"10\",\n",
        "        \"start\": \"10\",\n",
        "        \"safe\": \"active\",\n",
        "        \"api_key\": serpapi_api_key\n",
        "    }\n",
        "\n",
        "    # Perform the search\n",
        "    search = GoogleSearch(params)\n",
        "    results = search.get_dict()\n",
        "\n",
        "    # Extract relevant information from search results\n",
        "    organic_results = results.get(\"organic_results\", [])\n",
        "\n",
        "    # Extract titles and snippets from the results\n",
        "    extracted_texts = [result[\"title\"] + \". \" + result[\"snippet\"] for result in organic_results]\n",
        "\n",
        "    # Join the texts to form a single input for the LLM\n",
        "    combined_text = \" \".join(extracted_texts)\n",
        "\n",
        "    # Initialize the language model (summarization pipeline)\n",
        "    summarizer = pipeline(\"summarization\", model=\"facebook/bart-large-cnn\")\n",
        "\n",
        "    # Use the LLM to summarize the extracted information\n",
        "    summary = summarizer(combined_text, max_length=150, min_length=30, do_sample=False)\n",
        "\n",
        "    # Return the summary text\n",
        "    return summary[0]['summary_text']\n",
        "\n",
        "# Example usage\n",
        "query = \"prime minister of india\"\n",
        "location = \"India\"  # You can change this location dynamically\n",
        "summary_text = search_and_summarize(query, location=location)\n",
        "\n",
        "# Print the summarized answer\n",
        "print(f\"Here's a summary of information about '{query}' in {location}:\")\n",
        "print(summary_text)\n"
      ],
      "metadata": {
        "colab": {
          "base_uri": "https://localhost:8080/"
        },
        "id": "m4W_CzIaYIUt",
        "outputId": "9f36c6ac-03ae-4a3d-a5b4-669606f5d069"
      },
      "execution_count": 26,
      "outputs": [
        {
          "output_type": "stream",
          "name": "stdout",
          "text": [
            "Here's a summary of information about 'prime minister of india' in India:\n",
            "India's Prime Minister Narendra Modi is in Moscow for a two-day visit with Russian President Vladimir Putin. Putin meets Indian prime minister in Russia on his first visit since Russia sent troops into Ukraine.\n"
          ]
        }
      ]
    },
    {
      "cell_type": "code",
      "source": [
        "import os\n",
        "from serpapi import GoogleSearch\n",
        "from transformers import pipeline\n",
        "\n",
        "# Function to perform search and summarize\n",
        "def search_and_summarize(query, location=\"India\"):\n",
        "    # Set your SerpAPI key\n",
        "    serpapi_api_key = \"88c301566503698e2a32e960f0a5c93a250ff47efe9e6a7e096aeb424a174558\"\n",
        "\n",
        "    # Configure search parameters\n",
        "    params = {\n",
        "        \"engine\": \"google\",\n",
        "        \"q\": query,\n",
        "        \"location\": location,\n",
        "        \"hl\": \"en\",\n",
        "        \"gl\": \"us\",\n",
        "        \"google_domain\": \"google.com\",\n",
        "        \"num\": \"10\",\n",
        "        \"start\": \"10\",\n",
        "        \"safe\": \"active\",\n",
        "        \"api_key\": serpapi_api_key\n",
        "    }\n",
        "\n",
        "    # Perform the search\n",
        "    search = GoogleSearch(params)\n",
        "    results = search.get_dict()\n",
        "\n",
        "    # Extract relevant information from search results\n",
        "    organic_results = results.get(\"organic_results\", [])\n",
        "\n",
        "    # Extract titles and snippets from the results\n",
        "    extracted_texts = [result[\"title\"] + \". \" + result[\"snippet\"] for result in organic_results]\n",
        "\n",
        "    # Join the texts to form a single input for the LLM\n",
        "    combined_text = \" \".join(extracted_texts)\n",
        "\n",
        "    # Initialize the language model (summarization pipeline)\n",
        "    summarizer = pipeline(\"summarization\", model=\"facebook/bart-large-cnn\")\n",
        "\n",
        "    # Use the LLM to summarize the extracted information\n",
        "    summary = summarizer(combined_text, max_length=2000, min_length=150, do_sample=False)\n",
        "\n",
        "    # Print the structured output similar to the example\n",
        "    print(\"> Entering new AgentExecutor chain...\")\n",
        "    print(f\"I need to research {query} to answer this question.\")\n",
        "    print(f\"Action: Search\")\n",
        "    print(f\"Action Input: \\\"{query}\\\"\")\n",
        "    print(f\"Observation: Page: {query}\")\n",
        "    print(f\"Summary: {summary[0]['summary_text']}\")\n",
        "\n",
        "    # Additional thought process if needed\n",
        "    print(\"Thought: I now know the final answer\")\n",
        "    print(f\"Final Answer: {summary[0]['summary_text']}\")\n",
        "\n",
        "    print(\"> Finished chain.\")\n",
        "\n",
        "    # Return the summarized text for further use if needed\n",
        "    return summary[0]['summary_text']\n",
        "\n",
        "# Example usage\n",
        "query = \"virat kohli\"\n",
        "location = \"India\"  # You can change this location dynamically\n",
        "search_and_summarize(query, location=location)\n"
      ],
      "metadata": {
        "colab": {
          "base_uri": "https://localhost:8080/",
          "height": 281
        },
        "id": "HwbAAQX-bSo_",
        "outputId": "eaa01553-48d8-474d-c34f-e594811b2c8d"
      },
      "execution_count": 59,
      "outputs": [
        {
          "output_type": "stream",
          "name": "stderr",
          "text": [
            "Your max_length is set to 2000, but your input_length is only 391. Since this is a summarization task, where outputs shorter than the input are typically wanted, you might consider decreasing max_length manually, e.g. summarizer('...', max_length=195)\n"
          ]
        },
        {
          "output_type": "stream",
          "name": "stdout",
          "text": [
            "> Entering new AgentExecutor chain...\n",
            "I need to research virat kohli to answer this question.\n",
            "Action: Search\n",
            "Action Input: \"virat kohli\"\n",
            "Observation: Page: virat kohli\n",
            "Summary: Virat Kohli gives fans a glimpse of his luxury home in Alibaug, sharing its video on social media. England Great's Remark On Virt Kohli, Rohit Sharma's .... Former England batter and skipper Michael Vaughan has said that the ICC T20 World Cup triumph was a perfect way for veterans Virat and Rohit to celebrate their triumph. Case against Virat Kohlis's pub in Bengaluru. Police action came after complaints of loud music. One8 Commune found to be operating after 1 am. Virat's Bengaluru pub faces FIR for operating beyond hours with loud music complaints. One 8 Commune is located near Karnataka's MG Road, Bengaluru, and is located on Bengaluru's Bengaluru Michelin Road.\n",
            "Thought: I now know the final answer\n",
            "Final Answer: Virat Kohli gives fans a glimpse of his luxury home in Alibaug, sharing its video on social media. England Great's Remark On Virt Kohli, Rohit Sharma's .... Former England batter and skipper Michael Vaughan has said that the ICC T20 World Cup triumph was a perfect way for veterans Virat and Rohit to celebrate their triumph. Case against Virat Kohlis's pub in Bengaluru. Police action came after complaints of loud music. One8 Commune found to be operating after 1 am. Virat's Bengaluru pub faces FIR for operating beyond hours with loud music complaints. One 8 Commune is located near Karnataka's MG Road, Bengaluru, and is located on Bengaluru's Bengaluru Michelin Road.\n",
            "> Finished chain.\n"
          ]
        },
        {
          "output_type": "execute_result",
          "data": {
            "text/plain": [
              "\"Virat Kohli gives fans a glimpse of his luxury home in Alibaug, sharing its video on social media. England Great's Remark On Virt Kohli, Rohit Sharma's .... Former England batter and skipper Michael Vaughan has said that the ICC T20 World Cup triumph was a perfect way for veterans Virat and Rohit to celebrate their triumph. Case against Virat Kohlis's pub in Bengaluru. Police action came after complaints of loud music. One8 Commune found to be operating after 1 am. Virat's Bengaluru pub faces FIR for operating beyond hours with loud music complaints. One 8 Commune is located near\\xa0Karnataka's MG Road, Bengaluru, and is located on Bengaluru's\\xa0Bengaluru\\xa0Michelin\\xa0Road.\""
            ],
            "application/vnd.google.colaboratory.intrinsic+json": {
              "type": "string"
            }
          },
          "metadata": {},
          "execution_count": 59
        }
      ]
    },
    {
      "cell_type": "code",
      "source": [],
      "metadata": {
        "id": "90Oy4_RDpVCd"
      },
      "execution_count": null,
      "outputs": []
    }
  ]
}